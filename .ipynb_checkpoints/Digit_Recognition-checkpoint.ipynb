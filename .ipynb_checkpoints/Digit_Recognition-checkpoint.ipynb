{
 "cells": [
  {
   "cell_type": "code",
   "execution_count": 1,
   "id": "48d90849-6cbb-4900-b486-13298cf7ee2c",
   "metadata": {},
   "outputs": [],
   "source": [
    "from torchvision import datasets\n",
    "from torchvision.transforms import ToTensor"
   ]
  },
  {
   "cell_type": "code",
   "execution_count": null,
   "id": "0e594642-e2af-4c34-8873-4d19f75336db",
   "metadata": {},
   "outputs": [],
   "source": []
  },
  {
   "cell_type": "code",
   "execution_count": 3,
   "id": "fa88d2cf-bbae-4390-b8dd-161f0cd55837",
   "metadata": {},
   "outputs": [
    {
     "name": "stdout",
     "output_type": "stream",
     "text": [
      "Downloading http://yann.lecun.com/exdb/mnist/train-images-idx3-ubyte.gz\n",
      "Downloading http://yann.lecun.com/exdb/mnist/train-images-idx3-ubyte.gz to data\\MNIST\\raw\\train-images-idx3-ubyte.gz\n"
     ]
    },
    {
     "name": "stderr",
     "output_type": "stream",
     "text": [
      "100.0%\n"
     ]
    },
    {
     "name": "stdout",
     "output_type": "stream",
     "text": [
      "Extracting data\\MNIST\\raw\\train-images-idx3-ubyte.gz to data\\MNIST\\raw\n",
      "\n",
      "Downloading http://yann.lecun.com/exdb/mnist/train-labels-idx1-ubyte.gz\n",
      "Downloading http://yann.lecun.com/exdb/mnist/train-labels-idx1-ubyte.gz to data\\MNIST\\raw\\train-labels-idx1-ubyte.gz\n"
     ]
    },
    {
     "name": "stderr",
     "output_type": "stream",
     "text": [
      "100.0%\n"
     ]
    },
    {
     "name": "stdout",
     "output_type": "stream",
     "text": [
      "Extracting data\\MNIST\\raw\\train-labels-idx1-ubyte.gz to data\\MNIST\\raw\n",
      "\n",
      "Downloading http://yann.lecun.com/exdb/mnist/t10k-images-idx3-ubyte.gz\n",
      "Downloading http://yann.lecun.com/exdb/mnist/t10k-images-idx3-ubyte.gz to data\\MNIST\\raw\\t10k-images-idx3-ubyte.gz\n"
     ]
    },
    {
     "name": "stderr",
     "output_type": "stream",
     "text": [
      "100.0%\n"
     ]
    },
    {
     "name": "stdout",
     "output_type": "stream",
     "text": [
      "Extracting data\\MNIST\\raw\\t10k-images-idx3-ubyte.gz to data\\MNIST\\raw\n",
      "\n",
      "Downloading http://yann.lecun.com/exdb/mnist/t10k-labels-idx1-ubyte.gz\n",
      "Downloading http://yann.lecun.com/exdb/mnist/t10k-labels-idx1-ubyte.gz to data\\MNIST\\raw\\t10k-labels-idx1-ubyte.gz\n"
     ]
    },
    {
     "name": "stderr",
     "output_type": "stream",
     "text": [
      "100.0%"
     ]
    },
    {
     "name": "stdout",
     "output_type": "stream",
     "text": [
      "Extracting data\\MNIST\\raw\\t10k-labels-idx1-ubyte.gz to data\\MNIST\\raw\n",
      "\n"
     ]
    },
    {
     "name": "stderr",
     "output_type": "stream",
     "text": [
      "\n"
     ]
    }
   ],
   "source": [
    "train_data = datasets.MNIST(\n",
    "    root = 'data',\n",
    "    train = True,\n",
    "    transform = ToTensor(),\n",
    "    download = True \n",
    ")\n",
    "test_data = datasets.MNIST(\n",
    "    root = 'data',\n",
    "    train = False,\n",
    "    transform = ToTensor(),\n",
    "    download = True \n",
    ")"
   ]
  },
  {
   "cell_type": "code",
   "execution_count": 5,
   "id": "c06e786d-fd72-4d95-b6a4-cb08811169d2",
   "metadata": {},
   "outputs": [
    {
     "data": {
      "text/plain": [
       "Dataset MNIST\n",
       "    Number of datapoints: 60000\n",
       "    Root location: data\n",
       "    Split: Train\n",
       "    StandardTransform\n",
       "Transform: ToTensor()"
      ]
     },
     "execution_count": 5,
     "metadata": {},
     "output_type": "execute_result"
    }
   ],
   "source": [
    "train_data"
   ]
  },
  {
   "cell_type": "code",
   "execution_count": 6,
   "id": "a06496e9-6b0b-43d3-a265-a8793545f749",
   "metadata": {},
   "outputs": [
    {
     "data": {
      "text/plain": [
       "Dataset MNIST\n",
       "    Number of datapoints: 10000\n",
       "    Root location: data\n",
       "    Split: Test\n",
       "    StandardTransform\n",
       "Transform: ToTensor()"
      ]
     },
     "execution_count": 6,
     "metadata": {},
     "output_type": "execute_result"
    }
   ],
   "source": [
    "test_data"
   ]
  },
  {
   "cell_type": "code",
   "execution_count": 7,
   "id": "7859b042-b779-4ed3-95ae-69391c6f4ede",
   "metadata": {},
   "outputs": [
    {
     "data": {
      "text/plain": [
       "torch.Size([60000, 28, 28])"
      ]
     },
     "execution_count": 7,
     "metadata": {},
     "output_type": "execute_result"
    }
   ],
   "source": [
    "train_data.data.shape"
   ]
  },
  {
   "cell_type": "code",
   "execution_count": 8,
   "id": "b40d20e5-e28c-4188-8343-cd1f972e39d4",
   "metadata": {},
   "outputs": [
    {
     "data": {
      "text/plain": [
       "torch.Size([10000, 28, 28])"
      ]
     },
     "execution_count": 8,
     "metadata": {},
     "output_type": "execute_result"
    }
   ],
   "source": [
    "test_data.data.shape"
   ]
  },
  {
   "cell_type": "code",
   "execution_count": 9,
   "id": "0c63d7bd-cf90-4b57-8a89-0e74048c9061",
   "metadata": {},
   "outputs": [
    {
     "data": {
      "text/plain": [
       "tensor([5, 0, 4,  ..., 5, 6, 8])"
      ]
     },
     "execution_count": 9,
     "metadata": {},
     "output_type": "execute_result"
    }
   ],
   "source": [
    "train_data.targets"
   ]
  },
  {
   "cell_type": "code",
   "execution_count": 11,
   "id": "048ec20c-d824-40b1-98fb-5054fa0f3456",
   "metadata": {},
   "outputs": [],
   "source": [
    "from torch.utils.data import DataLoader\n",
    "\n",
    "loaders = {\n",
    "    \"train\": DataLoader(train_data,\n",
    "                        batch_size=100,\n",
    "                        shuffle=True,\n",
    "                        num_workers=1),\n",
    "    \n",
    "    \"test\": DataLoader(test_data,\n",
    "                       batch_size=100,\n",
    "                       shuffle=True,\n",
    "                       num_workers=1)\n",
    "}\n"
   ]
  },
  {
   "cell_type": "code",
   "execution_count": 12,
   "id": "d430703d-c8a1-4a34-b643-feb862db07e0",
   "metadata": {},
   "outputs": [
    {
     "data": {
      "text/plain": [
       "{'train': <torch.utils.data.dataloader.DataLoader at 0x1a7c03f8310>,\n",
       " 'test': <torch.utils.data.dataloader.DataLoader at 0x1a7c03e46d0>}"
      ]
     },
     "execution_count": 12,
     "metadata": {},
     "output_type": "execute_result"
    }
   ],
   "source": [
    "loaders"
   ]
  },
  {
   "cell_type": "code",
   "execution_count": 13,
   "id": "0a20a6da-1dc1-4c96-91e3-2137b3549942",
   "metadata": {},
   "outputs": [],
   "source": [
    "import torch.nn as nn\n",
    "import torch.nn.functional as F\n",
    "import torch.optim as optim\n",
    "\n",
    "class CNN(nn.Module):\n",
    "    def __init__(self):\n",
    "        super(CNN, self).__init__()\n",
    "\n",
    "        self.conv1 = nn.Conv2d(1, 10, kernel_size=5)\n",
    "        self.conv2 = nn.Conv2d(10, 20, kernel_size=5)\n",
    "        self.conv2_drop = nn.Dropout2d()\n",
    "        self.fc1 = nn.Linear(320, 50)\n",
    "        self.fc2 = nn.Linear(50, 10)\n",
    "\n",
    "    def forward(self, x):\n",
    "        x = F.relu(F.max_pool2d(self.conv1(x), 2))\n",
    "        x = F.relu(F.max_pool2d(self.conv2_drop(self.conv2(x)), 2))\n",
    "        x = x.view(-1, 320)  # Flatten the tensor for the fully connected layer\n",
    "        x = F.relu(self.fc1(x))\n",
    "        x = F.dropout(x, training=self.training)\n",
    "        x = self.fc2(x)\n",
    "        return F.log_softmax(x, dim=1)\n",
    "\n",
    "\n"
   ]
  },
  {
   "cell_type": "code",
   "execution_count": 27,
   "id": "39d41c1d-3acf-4adb-b5db-92d21c8b6b6d",
   "metadata": {},
   "outputs": [],
   "source": [
    "import torch\n",
    "device = torch.device('cuda' if torch.cuda.is_available() else 'cpu')\n",
    "# Create an instance of the CNN model\n",
    "model = CNN().to(device)\n",
    "optimizer = optim.Adam(model.parameters(), lr=0.01)\n",
    "loss_fn = nn.CrossEntropyLoss()\n",
    "\n",
    "def train(epoch):\n",
    "    model.train()\n",
    "    for batch_idx, (data, target) in enumerate(loaders['train']):\n",
    "        data, target = data.to(device), target.to(device)\n",
    "\n",
    "        # Zero the gradients\n",
    "        optimizer.zero_grad()\n",
    "\n",
    "        # Forward pass\n",
    "        output = model(data)\n",
    "\n",
    "        # Calculate the loss\n",
    "        loss = loss_fn(output, target)\n",
    "\n",
    "        # Backward pass\n",
    "        loss.backward()\n",
    "\n",
    "        # Update weights\n",
    "        optimizer.step()\n",
    "\n",
    "       # Print training progress\n",
    "        if batch_idx % 20 == 0:\n",
    "            print(f\"Train Epoch: {epoch} [{ batch_idx * len(data)}/{len(loaders['train'].dataset)} ({100. * batch_idx / len(loaders['train']):.0f}%)]\\t{loss.item():.6f}\")\n",
    "\n",
    "# Assuming you have a DataLoader named train_loader for your training data\n",
    "# and log_interval is a variable indicating how often to print training progress.\n",
    "# You'll need to set these values accordingly.\n",
    "\n",
    "def test():\n",
    "    model.eval()\n",
    "    test_loss = 0\n",
    "    correct = 0\n",
    "\n",
    "    with torch.no_grad():\n",
    "        for data, target in loaders['test']:  # Assuming you have a DataLoader named test_loader\n",
    "            data, target = data.to(device), target.to(device)\n",
    "\n",
    "            # Forward pass\n",
    "            output = model(data)\n",
    "\n",
    "            # Calculate the test loss\n",
    "            test_loss += loss_fn(output, target).item()\n",
    "\n",
    "            # Get the index of the max log-probability (predicted class)\n",
    "            pred = output.argmax(dim=1, keepdim=True)\n",
    "            correct += pred.eq(target.view_as(pred)).sum().item()\n",
    "\n",
    "    # Average test loss\n",
    "    test_loss /= len(loaders['test'].dataset)\n",
    "\n",
    "    print(f\"\\nTest set: Average loss: {test_loss:.4f}, Accuracy: {correct}/{len(loaders['test'].dataset)} ({100.*correct/len(loaders['test'].dataset):.0f}%\\n\")\n",
    "\n"
   ]
  },
  {
   "cell_type": "code",
   "execution_count": 28,
   "id": "0843462c-4086-45b0-889e-3681f9fd5af1",
   "metadata": {},
   "outputs": [
    {
     "name": "stdout",
     "output_type": "stream",
     "text": [
      "Train Epoch: 1 [0/60000 (0%)]\t2.301514\n",
      "Train Epoch: 1 [2000/60000 (3%)]\t1.448054\n",
      "Train Epoch: 1 [4000/60000 (7%)]\t0.768189\n",
      "Train Epoch: 1 [6000/60000 (10%)]\t0.672034\n",
      "Train Epoch: 1 [8000/60000 (13%)]\t0.647438\n",
      "Train Epoch: 1 [10000/60000 (17%)]\t0.455093\n",
      "Train Epoch: 1 [12000/60000 (20%)]\t0.413290\n",
      "Train Epoch: 1 [14000/60000 (23%)]\t0.624191\n",
      "Train Epoch: 1 [16000/60000 (27%)]\t0.435067\n",
      "Train Epoch: 1 [18000/60000 (30%)]\t0.407092\n",
      "Train Epoch: 1 [20000/60000 (33%)]\t0.442730\n",
      "Train Epoch: 1 [22000/60000 (37%)]\t0.402414\n",
      "Train Epoch: 1 [24000/60000 (40%)]\t0.360069\n",
      "Train Epoch: 1 [26000/60000 (43%)]\t0.355998\n",
      "Train Epoch: 1 [28000/60000 (47%)]\t0.345586\n",
      "Train Epoch: 1 [30000/60000 (50%)]\t0.291872\n",
      "Train Epoch: 1 [32000/60000 (53%)]\t0.454807\n",
      "Train Epoch: 1 [34000/60000 (57%)]\t0.346719\n",
      "Train Epoch: 1 [36000/60000 (60%)]\t0.306432\n",
      "Train Epoch: 1 [38000/60000 (63%)]\t0.247625\n",
      "Train Epoch: 1 [40000/60000 (67%)]\t0.487674\n",
      "Train Epoch: 1 [42000/60000 (70%)]\t0.390327\n",
      "Train Epoch: 1 [44000/60000 (73%)]\t0.411217\n",
      "Train Epoch: 1 [46000/60000 (77%)]\t0.291875\n",
      "Train Epoch: 1 [48000/60000 (80%)]\t0.407780\n",
      "Train Epoch: 1 [50000/60000 (83%)]\t0.260231\n",
      "Train Epoch: 1 [52000/60000 (87%)]\t0.321778\n",
      "Train Epoch: 1 [54000/60000 (90%)]\t0.403681\n",
      "Train Epoch: 1 [56000/60000 (93%)]\t0.332721\n",
      "Train Epoch: 1 [58000/60000 (97%)]\t0.316150\n",
      "\n",
      "Test set: Average loss: 0.0009, Accuracy: 9738/10000 (97%\n",
      "\n",
      "Train Epoch: 2 [0/60000 (0%)]\t0.354837\n",
      "Train Epoch: 2 [2000/60000 (3%)]\t0.268941\n",
      "Train Epoch: 2 [4000/60000 (7%)]\t0.149815\n",
      "Train Epoch: 2 [6000/60000 (10%)]\t0.613805\n",
      "Train Epoch: 2 [8000/60000 (13%)]\t0.330298\n",
      "Train Epoch: 2 [10000/60000 (17%)]\t0.349482\n",
      "Train Epoch: 2 [12000/60000 (20%)]\t0.510569\n",
      "Train Epoch: 2 [14000/60000 (23%)]\t0.338665\n",
      "Train Epoch: 2 [16000/60000 (27%)]\t0.587271\n",
      "Train Epoch: 2 [18000/60000 (30%)]\t0.165728\n",
      "Train Epoch: 2 [20000/60000 (33%)]\t0.161893\n",
      "Train Epoch: 2 [22000/60000 (37%)]\t0.174276\n",
      "Train Epoch: 2 [24000/60000 (40%)]\t0.372187\n",
      "Train Epoch: 2 [26000/60000 (43%)]\t0.320327\n",
      "Train Epoch: 2 [28000/60000 (47%)]\t0.216168\n",
      "Train Epoch: 2 [30000/60000 (50%)]\t0.315126\n",
      "Train Epoch: 2 [32000/60000 (53%)]\t0.301829\n",
      "Train Epoch: 2 [34000/60000 (57%)]\t0.238440\n",
      "Train Epoch: 2 [36000/60000 (60%)]\t0.428706\n",
      "Train Epoch: 2 [38000/60000 (63%)]\t0.526110\n",
      "Train Epoch: 2 [40000/60000 (67%)]\t0.125223\n",
      "Train Epoch: 2 [42000/60000 (70%)]\t0.213756\n",
      "Train Epoch: 2 [44000/60000 (73%)]\t0.310624\n",
      "Train Epoch: 2 [46000/60000 (77%)]\t0.192421\n",
      "Train Epoch: 2 [48000/60000 (80%)]\t0.184219\n",
      "Train Epoch: 2 [50000/60000 (83%)]\t0.315573\n",
      "Train Epoch: 2 [52000/60000 (87%)]\t0.437923\n",
      "Train Epoch: 2 [54000/60000 (90%)]\t0.272363\n",
      "Train Epoch: 2 [56000/60000 (93%)]\t0.260408\n",
      "Train Epoch: 2 [58000/60000 (97%)]\t0.240485\n",
      "\n",
      "Test set: Average loss: 0.0008, Accuracy: 9768/10000 (98%\n",
      "\n",
      "Train Epoch: 3 [0/60000 (0%)]\t0.287741\n",
      "Train Epoch: 3 [2000/60000 (3%)]\t0.495345\n",
      "Train Epoch: 3 [4000/60000 (7%)]\t0.254923\n",
      "Train Epoch: 3 [6000/60000 (10%)]\t0.189398\n",
      "Train Epoch: 3 [8000/60000 (13%)]\t0.299206\n",
      "Train Epoch: 3 [10000/60000 (17%)]\t0.315961\n",
      "Train Epoch: 3 [12000/60000 (20%)]\t0.254076\n",
      "Train Epoch: 3 [14000/60000 (23%)]\t0.159737\n",
      "Train Epoch: 3 [16000/60000 (27%)]\t0.423854\n",
      "Train Epoch: 3 [18000/60000 (30%)]\t0.254226\n",
      "Train Epoch: 3 [20000/60000 (33%)]\t0.156989\n",
      "Train Epoch: 3 [22000/60000 (37%)]\t0.285310\n",
      "Train Epoch: 3 [24000/60000 (40%)]\t0.346610\n",
      "Train Epoch: 3 [26000/60000 (43%)]\t0.365284\n",
      "Train Epoch: 3 [28000/60000 (47%)]\t0.421514\n",
      "Train Epoch: 3 [30000/60000 (50%)]\t0.215902\n",
      "Train Epoch: 3 [32000/60000 (53%)]\t0.408134\n",
      "Train Epoch: 3 [34000/60000 (57%)]\t0.140675\n",
      "Train Epoch: 3 [36000/60000 (60%)]\t0.360019\n",
      "Train Epoch: 3 [38000/60000 (63%)]\t0.283950\n",
      "Train Epoch: 3 [40000/60000 (67%)]\t0.468722\n",
      "Train Epoch: 3 [42000/60000 (70%)]\t0.375313\n",
      "Train Epoch: 3 [44000/60000 (73%)]\t0.207822\n",
      "Train Epoch: 3 [46000/60000 (77%)]\t0.272434\n",
      "Train Epoch: 3 [48000/60000 (80%)]\t0.467613\n",
      "Train Epoch: 3 [50000/60000 (83%)]\t0.125536\n",
      "Train Epoch: 3 [52000/60000 (87%)]\t0.497835\n",
      "Train Epoch: 3 [54000/60000 (90%)]\t0.372211\n",
      "Train Epoch: 3 [56000/60000 (93%)]\t0.297165\n",
      "Train Epoch: 3 [58000/60000 (97%)]\t0.239575\n",
      "\n",
      "Test set: Average loss: 0.0009, Accuracy: 9733/10000 (97%\n",
      "\n",
      "Train Epoch: 4 [0/60000 (0%)]\t0.264522\n",
      "Train Epoch: 4 [2000/60000 (3%)]\t0.143268\n",
      "Train Epoch: 4 [4000/60000 (7%)]\t0.264554\n",
      "Train Epoch: 4 [6000/60000 (10%)]\t0.205233\n",
      "Train Epoch: 4 [8000/60000 (13%)]\t0.266860\n",
      "Train Epoch: 4 [10000/60000 (17%)]\t0.401939\n",
      "Train Epoch: 4 [12000/60000 (20%)]\t0.292251\n",
      "Train Epoch: 4 [14000/60000 (23%)]\t0.145435\n",
      "Train Epoch: 4 [16000/60000 (27%)]\t0.381078\n",
      "Train Epoch: 4 [18000/60000 (30%)]\t0.348194\n",
      "Train Epoch: 4 [20000/60000 (33%)]\t0.339001\n",
      "Train Epoch: 4 [22000/60000 (37%)]\t0.285354\n",
      "Train Epoch: 4 [24000/60000 (40%)]\t0.156983\n",
      "Train Epoch: 4 [26000/60000 (43%)]\t0.480109\n",
      "Train Epoch: 4 [28000/60000 (47%)]\t0.458546\n",
      "Train Epoch: 4 [30000/60000 (50%)]\t0.522287\n",
      "Train Epoch: 4 [32000/60000 (53%)]\t0.208149\n",
      "Train Epoch: 4 [34000/60000 (57%)]\t0.275569\n",
      "Train Epoch: 4 [36000/60000 (60%)]\t0.346630\n",
      "Train Epoch: 4 [38000/60000 (63%)]\t0.275264\n",
      "Train Epoch: 4 [40000/60000 (67%)]\t0.229780\n",
      "Train Epoch: 4 [42000/60000 (70%)]\t0.220535\n",
      "Train Epoch: 4 [44000/60000 (73%)]\t0.404698\n",
      "Train Epoch: 4 [46000/60000 (77%)]\t0.131786\n",
      "Train Epoch: 4 [48000/60000 (80%)]\t0.421657\n",
      "Train Epoch: 4 [50000/60000 (83%)]\t0.263982\n",
      "Train Epoch: 4 [52000/60000 (87%)]\t0.381120\n",
      "Train Epoch: 4 [54000/60000 (90%)]\t0.241664\n",
      "Train Epoch: 4 [56000/60000 (93%)]\t0.351599\n",
      "Train Epoch: 4 [58000/60000 (97%)]\t0.382987\n",
      "\n",
      "Test set: Average loss: 0.0008, Accuracy: 9735/10000 (97%\n",
      "\n",
      "Train Epoch: 5 [0/60000 (0%)]\t0.426579\n",
      "Train Epoch: 5 [2000/60000 (3%)]\t0.244688\n",
      "Train Epoch: 5 [4000/60000 (7%)]\t0.251456\n",
      "Train Epoch: 5 [6000/60000 (10%)]\t0.270799\n",
      "Train Epoch: 5 [8000/60000 (13%)]\t0.257750\n",
      "Train Epoch: 5 [10000/60000 (17%)]\t0.240779\n",
      "Train Epoch: 5 [12000/60000 (20%)]\t0.268246\n",
      "Train Epoch: 5 [14000/60000 (23%)]\t0.266175\n",
      "Train Epoch: 5 [16000/60000 (27%)]\t0.525733\n",
      "Train Epoch: 5 [18000/60000 (30%)]\t0.201346\n",
      "Train Epoch: 5 [20000/60000 (33%)]\t0.154239\n",
      "Train Epoch: 5 [22000/60000 (37%)]\t0.207245\n",
      "Train Epoch: 5 [24000/60000 (40%)]\t0.426193\n",
      "Train Epoch: 5 [26000/60000 (43%)]\t0.296062\n",
      "Train Epoch: 5 [28000/60000 (47%)]\t0.295217\n",
      "Train Epoch: 5 [30000/60000 (50%)]\t0.228873\n",
      "Train Epoch: 5 [32000/60000 (53%)]\t0.511275\n",
      "Train Epoch: 5 [34000/60000 (57%)]\t0.470933\n",
      "Train Epoch: 5 [36000/60000 (60%)]\t0.443692\n",
      "Train Epoch: 5 [38000/60000 (63%)]\t0.492988\n",
      "Train Epoch: 5 [40000/60000 (67%)]\t0.224276\n",
      "Train Epoch: 5 [42000/60000 (70%)]\t0.234955\n",
      "Train Epoch: 5 [44000/60000 (73%)]\t0.268856\n",
      "Train Epoch: 5 [46000/60000 (77%)]\t0.140046\n",
      "Train Epoch: 5 [48000/60000 (80%)]\t0.206244\n",
      "Train Epoch: 5 [50000/60000 (83%)]\t0.214871\n",
      "Train Epoch: 5 [52000/60000 (87%)]\t0.208080\n",
      "Train Epoch: 5 [54000/60000 (90%)]\t0.288274\n",
      "Train Epoch: 5 [56000/60000 (93%)]\t0.421349\n",
      "Train Epoch: 5 [58000/60000 (97%)]\t0.279957\n",
      "\n",
      "Test set: Average loss: 0.0007, Accuracy: 9770/10000 (98%\n",
      "\n",
      "Train Epoch: 6 [0/60000 (0%)]\t0.107382\n",
      "Train Epoch: 6 [2000/60000 (3%)]\t0.284698\n",
      "Train Epoch: 6 [4000/60000 (7%)]\t0.324923\n",
      "Train Epoch: 6 [6000/60000 (10%)]\t0.364497\n",
      "Train Epoch: 6 [8000/60000 (13%)]\t0.301380\n",
      "Train Epoch: 6 [10000/60000 (17%)]\t0.136202\n",
      "Train Epoch: 6 [12000/60000 (20%)]\t0.224399\n",
      "Train Epoch: 6 [14000/60000 (23%)]\t0.251574\n",
      "Train Epoch: 6 [16000/60000 (27%)]\t0.250885\n",
      "Train Epoch: 6 [18000/60000 (30%)]\t0.236069\n",
      "Train Epoch: 6 [20000/60000 (33%)]\t0.321021\n",
      "Train Epoch: 6 [22000/60000 (37%)]\t0.144244\n",
      "Train Epoch: 6 [24000/60000 (40%)]\t0.307986\n",
      "Train Epoch: 6 [26000/60000 (43%)]\t0.303655\n",
      "Train Epoch: 6 [28000/60000 (47%)]\t0.251618\n",
      "Train Epoch: 6 [30000/60000 (50%)]\t0.173532\n",
      "Train Epoch: 6 [32000/60000 (53%)]\t0.372716\n",
      "Train Epoch: 6 [34000/60000 (57%)]\t0.276200\n",
      "Train Epoch: 6 [36000/60000 (60%)]\t0.270201\n",
      "Train Epoch: 6 [38000/60000 (63%)]\t0.484902\n",
      "Train Epoch: 6 [40000/60000 (67%)]\t0.430257\n",
      "Train Epoch: 6 [42000/60000 (70%)]\t0.229801\n",
      "Train Epoch: 6 [44000/60000 (73%)]\t0.277259\n",
      "Train Epoch: 6 [46000/60000 (77%)]\t0.346470\n",
      "Train Epoch: 6 [48000/60000 (80%)]\t0.256025\n",
      "Train Epoch: 6 [50000/60000 (83%)]\t0.249506\n",
      "Train Epoch: 6 [52000/60000 (87%)]\t0.273613\n",
      "Train Epoch: 6 [54000/60000 (90%)]\t0.240939\n",
      "Train Epoch: 6 [56000/60000 (93%)]\t0.324343\n",
      "Train Epoch: 6 [58000/60000 (97%)]\t0.252910\n",
      "\n",
      "Test set: Average loss: 0.0008, Accuracy: 9756/10000 (98%\n",
      "\n",
      "Train Epoch: 7 [0/60000 (0%)]\t0.124339\n",
      "Train Epoch: 7 [2000/60000 (3%)]\t0.576607\n",
      "Train Epoch: 7 [4000/60000 (7%)]\t0.161921\n",
      "Train Epoch: 7 [6000/60000 (10%)]\t0.213855\n",
      "Train Epoch: 7 [8000/60000 (13%)]\t0.289384\n",
      "Train Epoch: 7 [10000/60000 (17%)]\t0.215488\n",
      "Train Epoch: 7 [12000/60000 (20%)]\t0.162216\n",
      "Train Epoch: 7 [14000/60000 (23%)]\t0.441510\n",
      "Train Epoch: 7 [16000/60000 (27%)]\t0.193989\n",
      "Train Epoch: 7 [18000/60000 (30%)]\t0.441746\n",
      "Train Epoch: 7 [20000/60000 (33%)]\t0.369879\n",
      "Train Epoch: 7 [22000/60000 (37%)]\t0.270007\n",
      "Train Epoch: 7 [24000/60000 (40%)]\t0.322939\n",
      "Train Epoch: 7 [26000/60000 (43%)]\t0.396738\n",
      "Train Epoch: 7 [28000/60000 (47%)]\t0.141780\n",
      "Train Epoch: 7 [30000/60000 (50%)]\t0.367134\n",
      "Train Epoch: 7 [32000/60000 (53%)]\t0.464067\n",
      "Train Epoch: 7 [34000/60000 (57%)]\t0.183268\n",
      "Train Epoch: 7 [36000/60000 (60%)]\t0.288872\n",
      "Train Epoch: 7 [38000/60000 (63%)]\t0.188668\n",
      "Train Epoch: 7 [40000/60000 (67%)]\t0.198007\n",
      "Train Epoch: 7 [42000/60000 (70%)]\t0.219211\n",
      "Train Epoch: 7 [44000/60000 (73%)]\t0.242126\n",
      "Train Epoch: 7 [46000/60000 (77%)]\t0.192647\n",
      "Train Epoch: 7 [48000/60000 (80%)]\t0.376385\n",
      "Train Epoch: 7 [50000/60000 (83%)]\t0.526046\n",
      "Train Epoch: 7 [52000/60000 (87%)]\t0.218807\n",
      "Train Epoch: 7 [54000/60000 (90%)]\t0.196552\n",
      "Train Epoch: 7 [56000/60000 (93%)]\t0.423418\n",
      "Train Epoch: 7 [58000/60000 (97%)]\t0.278168\n",
      "\n",
      "Test set: Average loss: 0.0008, Accuracy: 9764/10000 (98%\n",
      "\n",
      "Train Epoch: 8 [0/60000 (0%)]\t0.257680\n",
      "Train Epoch: 8 [2000/60000 (3%)]\t0.306247\n",
      "Train Epoch: 8 [4000/60000 (7%)]\t0.263505\n",
      "Train Epoch: 8 [6000/60000 (10%)]\t0.224620\n",
      "Train Epoch: 8 [8000/60000 (13%)]\t0.336803\n",
      "Train Epoch: 8 [10000/60000 (17%)]\t0.329974\n",
      "Train Epoch: 8 [12000/60000 (20%)]\t0.273807\n",
      "Train Epoch: 8 [14000/60000 (23%)]\t0.342314\n",
      "Train Epoch: 8 [16000/60000 (27%)]\t0.364003\n",
      "Train Epoch: 8 [18000/60000 (30%)]\t0.269986\n",
      "Train Epoch: 8 [20000/60000 (33%)]\t0.317887\n",
      "Train Epoch: 8 [22000/60000 (37%)]\t0.221543\n",
      "Train Epoch: 8 [24000/60000 (40%)]\t0.336248\n",
      "Train Epoch: 8 [26000/60000 (43%)]\t0.315265\n",
      "Train Epoch: 8 [28000/60000 (47%)]\t0.150000\n",
      "Train Epoch: 8 [30000/60000 (50%)]\t0.211363\n",
      "Train Epoch: 8 [32000/60000 (53%)]\t0.223610\n",
      "Train Epoch: 8 [34000/60000 (57%)]\t0.371818\n",
      "Train Epoch: 8 [36000/60000 (60%)]\t0.308769\n",
      "Train Epoch: 8 [38000/60000 (63%)]\t0.319978\n",
      "Train Epoch: 8 [40000/60000 (67%)]\t0.125440\n",
      "Train Epoch: 8 [42000/60000 (70%)]\t0.163816\n",
      "Train Epoch: 8 [44000/60000 (73%)]\t0.253584\n",
      "Train Epoch: 8 [46000/60000 (77%)]\t0.323273\n",
      "Train Epoch: 8 [48000/60000 (80%)]\t0.192954\n",
      "Train Epoch: 8 [50000/60000 (83%)]\t0.304167\n",
      "Train Epoch: 8 [52000/60000 (87%)]\t0.370112\n",
      "Train Epoch: 8 [54000/60000 (90%)]\t0.060677\n",
      "Train Epoch: 8 [56000/60000 (93%)]\t0.182419\n",
      "Train Epoch: 8 [58000/60000 (97%)]\t0.246806\n",
      "\n",
      "Test set: Average loss: 0.0007, Accuracy: 9783/10000 (98%\n",
      "\n",
      "Train Epoch: 9 [0/60000 (0%)]\t0.190074\n",
      "Train Epoch: 9 [2000/60000 (3%)]\t0.199584\n",
      "Train Epoch: 9 [4000/60000 (7%)]\t0.121823\n",
      "Train Epoch: 9 [6000/60000 (10%)]\t0.130927\n",
      "Train Epoch: 9 [8000/60000 (13%)]\t0.338771\n",
      "Train Epoch: 9 [10000/60000 (17%)]\t0.554275\n",
      "Train Epoch: 9 [12000/60000 (20%)]\t0.202288\n",
      "Train Epoch: 9 [14000/60000 (23%)]\t0.160497\n",
      "Train Epoch: 9 [16000/60000 (27%)]\t0.337029\n",
      "Train Epoch: 9 [18000/60000 (30%)]\t0.164081\n",
      "Train Epoch: 9 [20000/60000 (33%)]\t0.175807\n",
      "Train Epoch: 9 [22000/60000 (37%)]\t0.322140\n",
      "Train Epoch: 9 [24000/60000 (40%)]\t0.234504\n",
      "Train Epoch: 9 [26000/60000 (43%)]\t0.427452\n",
      "Train Epoch: 9 [28000/60000 (47%)]\t0.376262\n",
      "Train Epoch: 9 [30000/60000 (50%)]\t0.195595\n",
      "Train Epoch: 9 [32000/60000 (53%)]\t0.205852\n",
      "Train Epoch: 9 [34000/60000 (57%)]\t0.186954\n",
      "Train Epoch: 9 [36000/60000 (60%)]\t0.161934\n",
      "Train Epoch: 9 [38000/60000 (63%)]\t0.383148\n",
      "Train Epoch: 9 [40000/60000 (67%)]\t0.182570\n",
      "Train Epoch: 9 [42000/60000 (70%)]\t0.200188\n",
      "Train Epoch: 9 [44000/60000 (73%)]\t0.430928\n",
      "Train Epoch: 9 [46000/60000 (77%)]\t0.100954\n",
      "Train Epoch: 9 [48000/60000 (80%)]\t0.469794\n",
      "Train Epoch: 9 [50000/60000 (83%)]\t0.246925\n",
      "Train Epoch: 9 [52000/60000 (87%)]\t0.103414\n",
      "Train Epoch: 9 [54000/60000 (90%)]\t0.379908\n",
      "Train Epoch: 9 [56000/60000 (93%)]\t0.273915\n",
      "Train Epoch: 9 [58000/60000 (97%)]\t0.165647\n",
      "\n",
      "Test set: Average loss: 0.0007, Accuracy: 9785/10000 (98%\n",
      "\n",
      "Train Epoch: 10 [0/60000 (0%)]\t0.191036\n",
      "Train Epoch: 10 [2000/60000 (3%)]\t0.151904\n",
      "Train Epoch: 10 [4000/60000 (7%)]\t0.192874\n",
      "Train Epoch: 10 [6000/60000 (10%)]\t0.151581\n",
      "Train Epoch: 10 [8000/60000 (13%)]\t0.290327\n",
      "Train Epoch: 10 [10000/60000 (17%)]\t0.274642\n",
      "Train Epoch: 10 [12000/60000 (20%)]\t0.157463\n",
      "Train Epoch: 10 [14000/60000 (23%)]\t0.215424\n",
      "Train Epoch: 10 [16000/60000 (27%)]\t0.346347\n",
      "Train Epoch: 10 [18000/60000 (30%)]\t0.316672\n",
      "Train Epoch: 10 [20000/60000 (33%)]\t0.426478\n",
      "Train Epoch: 10 [22000/60000 (37%)]\t0.137645\n",
      "Train Epoch: 10 [24000/60000 (40%)]\t0.258177\n",
      "Train Epoch: 10 [26000/60000 (43%)]\t0.147636\n",
      "Train Epoch: 10 [28000/60000 (47%)]\t0.261744\n",
      "Train Epoch: 10 [30000/60000 (50%)]\t0.368606\n",
      "Train Epoch: 10 [32000/60000 (53%)]\t0.221384\n",
      "Train Epoch: 10 [34000/60000 (57%)]\t0.225032\n",
      "Train Epoch: 10 [36000/60000 (60%)]\t0.216517\n",
      "Train Epoch: 10 [38000/60000 (63%)]\t0.276786\n",
      "Train Epoch: 10 [40000/60000 (67%)]\t0.206791\n",
      "Train Epoch: 10 [42000/60000 (70%)]\t0.218760\n",
      "Train Epoch: 10 [44000/60000 (73%)]\t0.203281\n",
      "Train Epoch: 10 [46000/60000 (77%)]\t0.342970\n",
      "Train Epoch: 10 [48000/60000 (80%)]\t0.192312\n",
      "Train Epoch: 10 [50000/60000 (83%)]\t0.232318\n",
      "Train Epoch: 10 [52000/60000 (87%)]\t0.119222\n",
      "Train Epoch: 10 [54000/60000 (90%)]\t0.318194\n",
      "Train Epoch: 10 [56000/60000 (93%)]\t0.257149\n",
      "Train Epoch: 10 [58000/60000 (97%)]\t0.222433\n",
      "\n",
      "Test set: Average loss: 0.0008, Accuracy: 9756/10000 (98%\n",
      "\n"
     ]
    }
   ],
   "source": [
    "for epoch in range(1,11):\n",
    "    train(epoch)\n",
    "    test()"
   ]
  },
  {
   "cell_type": "code",
   "execution_count": 30,
   "id": "79bd2f33-0171-47d8-a1c9-2df70b19481d",
   "metadata": {},
   "outputs": [
    {
     "data": {
      "text/plain": [
       "device(type='cpu')"
      ]
     },
     "execution_count": 30,
     "metadata": {},
     "output_type": "execute_result"
    }
   ],
   "source": [
    "device"
   ]
  },
  {
   "cell_type": "code",
   "execution_count": 33,
   "id": "2e1b27ba-edc2-4813-b8f5-24e5e812da1c",
   "metadata": {},
   "outputs": [
    {
     "name": "stdout",
     "output_type": "stream",
     "text": [
      "Prediction: 1\n"
     ]
    },
    {
     "data": {
      "image/png": "[encoded data removed]",
      "text/plain": [
       "<Figure size 640x480 with 1 Axes>"
      ]
     },
     "metadata": {},
     "output_type": "display_data"
    }
   ],
   "source": [
    "import matplotlib.pyplot as plt\n",
    "model.eval()\n",
    "data,target = test_data[2]\n",
    "data = data.unsqueeze(0).to(device)\n",
    "output = model(data)\n",
    "prediction = output.argmax(dim=1,keepdim = True).item()\n",
    "print(f\"Prediction: {prediction}\")\n",
    "image = data.squeeze(0).squeeze(0).cpu().numpy()\n",
    "plt.imshow(image, cmap='gray')\n",
    "plt.show()"
   ]
  },
  {
   "cell_type": "code",
   "execution_count": null,
   "id": "0e1903a2-47ca-4777-b7f8-ddc3dd9d98b4",
   "metadata": {},
   "outputs": [],
   "source": []
  },
  {
   "cell_type": "code",
   "execution_count": null,
   "id": "8af2f308-13ac-4379-9faa-802c39a37f62",
   "metadata": {},
   "outputs": [],
   "source": []
  },
  {
   "cell_type": "code",
   "execution_count": null,
   "id": "4419618b-16c8-4aaa-b629-0ef044c2ed02",
   "metadata": {},
   "outputs": [],
   "source": []
  },
  {
   "cell_type": "code",
   "execution_count": null,
   "id": "7b148fe8-1b4e-4351-b9e5-3a150d1d2ddb",
   "metadata": {},
   "outputs": [],
   "source": []
  },
  {
   "cell_type": "code",
   "execution_count": null,
   "id": "e57cb43b-e2fe-448a-b388-f75d09e706da",
   "metadata": {},
   "outputs": [],
   "source": []
  },
  {
   "cell_type": "code",
   "execution_count": null,
   "id": "7ef60e25-07a3-4022-b566-7ab5b6542cb7",
   "metadata": {},
   "outputs": [],
   "source": []
  },
  {
   "cell_type": "code",
   "execution_count": null,
   "id": "4fa61179-b86b-4022-b2b4-dc8ef194d881",
   "metadata": {},
   "outputs": [],
   "source": []
  }
 ],
 "metadata": {
  "kernelspec": {
   "display_name": "Python 3 (ipykernel)",
   "language": "python",
   "name": "python3"
  },
  "language_info": {
   "codemirror_mode": {
    "name": "ipython",
    "version": 3
   },
   "file_extension": ".py",
   "mimetype": "text/x-python",
   "name": "python",
   "nbconvert_exporter": "python",
   "pygments_lexer": "ipython3",
   "version": "3.11.5"
  }
 },
 "nbformat": 4,
 "nbformat_minor": 5
}
